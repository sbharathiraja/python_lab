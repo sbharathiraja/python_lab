{
 "cells": [
  {
   "cell_type": "markdown",
   "metadata": {},
   "source": [
    "# **List Comprehension**"
   ]
  },
  {
   "cell_type": "markdown",
   "metadata": {},
   "source": [
    "**Classic for loop**"
   ]
  },
  {
   "cell_type": "code",
   "execution_count": 5,
   "metadata": {},
   "outputs": [
    {
     "name": "stdout",
     "output_type": "stream",
     "text": [
      "[32, 22, 10]\n"
     ]
    }
   ],
   "source": [
    "numbers = [3,5,45,97,32,22,10,19,39,43]\n",
    "result = []\n",
    "for number in numbers:\n",
    "  if number % 2 == 0:\n",
    "    result.append(number)\n",
    "print(result)"
   ]
  },
  {
   "cell_type": "markdown",
   "metadata": {},
   "source": [
    "**List Comprehension way**"
   ]
  },
  {
   "cell_type": "code",
   "execution_count": 6,
   "metadata": {},
   "outputs": [
    {
     "name": "stdout",
     "output_type": "stream",
     "text": [
      "[32, 22, 10]\n"
     ]
    }
   ],
   "source": [
    "result = [number for number in numbers if number % 2 == 0]\n",
    "print(result)"
   ]
  },
  {
   "cell_type": "markdown",
   "metadata": {},
   "source": [
    "**Python List Comprehension: Find all of the numbers from 1-1000 that are divisible by 7**"
   ]
  },
  {
   "cell_type": "code",
   "execution_count": 7,
   "metadata": {},
   "outputs": [
    {
     "name": "stdout",
     "output_type": "stream",
     "text": [
      "[7, 14, 21, 28, 35, 42, 49, 56, 63, 70, 77, 84, 91, 98, 105, 112, 119, 126, 133, 140, 147, 154, 161, 168, 175, 182, 189, 196, 203, 210, 217, 224, 231, 238, 245, 252, 259, 266, 273, 280, 287, 294, 301, 308, 315, 322, 329, 336, 343, 350, 357, 364, 371, 378, 385, 392, 399, 406, 413, 420, 427, 434, 441, 448, 455, 462, 469, 476, 483, 490, 497, 504, 511, 518, 525, 532, 539, 546, 553, 560, 567, 574, 581, 588, 595, 602, 609, 616, 623, 630, 637, 644, 651, 658, 665, 672, 679, 686, 693, 700, 707, 714, 721, 728, 735, 742, 749, 756, 763, 770, 777, 784, 791, 798, 805, 812, 819, 826, 833, 840, 847, 854, 861, 868, 875, 882, 889, 896, 903, 910, 917, 924, 931, 938, 945, 952, 959, 966, 973, 980, 987, 994]\n"
     ]
    }
   ],
   "source": [
    "div_by_7 = [ n for n in range(1,1001) if n%7 == 0 ]\n",
    "print(div_by_7)"
   ]
  },
  {
   "cell_type": "code",
   "execution_count": 12,
   "metadata": {},
   "outputs": [
    {
     "name": "stdout",
     "output_type": "stream",
     "text": [
      "[100, 200, 300, 400, 500, 600, 700, 800, 900, 1000]\n"
     ]
    }
   ],
   "source": [
    "div_by_100 = [n for n in range(1,1001) if n%100 == 0]\n",
    "print(div_by_100)"
   ]
  },
  {
   "cell_type": "markdown",
   "metadata": {},
   "source": [
    "**Python List Comprehension: Find all of the numbers from 1-1000 that have a 3 in them**"
   ]
  },
  {
   "cell_type": "code",
   "execution_count": 13,
   "metadata": {},
   "outputs": [
    {
     "name": "stdout",
     "output_type": "stream",
     "text": [
      "[3, 13, 23, 30, 31, 32, 33, 34, 35, 36, 37, 38, 39, 43, 53, 63, 73, 83, 93, 103, 113, 123, 130, 131, 132, 133, 134, 135, 136, 137, 138, 139, 143, 153, 163, 173, 183, 193, 203, 213, 223, 230, 231, 232, 233, 234, 235, 236, 237, 238, 239, 243, 253, 263, 273, 283, 293, 300, 301, 302, 303, 304, 305, 306, 307, 308, 309, 310, 311, 312, 313, 314, 315, 316, 317, 318, 319, 320, 321, 322, 323, 324, 325, 326, 327, 328, 329, 330, 331, 332, 333, 334, 335, 336, 337, 338, 339, 340, 341, 342, 343, 344, 345, 346, 347, 348, 349, 350, 351, 352, 353, 354, 355, 356, 357, 358, 359, 360, 361, 362, 363, 364, 365, 366, 367, 368, 369, 370, 371, 372, 373, 374, 375, 376, 377, 378, 379, 380, 381, 382, 383, 384, 385, 386, 387, 388, 389, 390, 391, 392, 393, 394, 395, 396, 397, 398, 399, 403, 413, 423, 430, 431, 432, 433, 434, 435, 436, 437, 438, 439, 443, 453, 463, 473, 483, 493, 503, 513, 523, 530, 531, 532, 533, 534, 535, 536, 537, 538, 539, 543, 553, 563, 573, 583, 593, 603, 613, 623, 630, 631, 632, 633, 634, 635, 636, 637, 638, 639, 643, 653, 663, 673, 683, 693, 703, 713, 723, 730, 731, 732, 733, 734, 735, 736, 737, 738, 739, 743, 753, 763, 773, 783, 793, 803, 813, 823, 830, 831, 832, 833, 834, 835, 836, 837, 838, 839, 843, 853, 863, 873, 883, 893, 903, 913, 923, 930, 931, 932, 933, 934, 935, 936, 937, 938, 939, 943, 953, 963, 973, 983, 993]\n"
     ]
    }
   ],
   "source": [
    "list3 = [i for i in range(1,1001) if '3' in str(i)]\n",
    "print(list3)"
   ]
  },
  {
   "cell_type": "markdown",
   "metadata": {},
   "source": [
    "**Count spaces in string**"
   ]
  },
  {
   "cell_type": "code",
   "execution_count": 22,
   "metadata": {},
   "outputs": [
    {
     "name": "stdout",
     "output_type": "stream",
     "text": [
      "space_count_1 =  17\n",
      "space_count_2 =  17\n",
      "space_count_3 =  17\n",
      "space_count_4 =  17\n",
      "space_count_5 =  17\n"
     ]
    }
   ],
   "source": [
    "st =  \"This is my a list comprehension string manipulation sample to get count of all spaces   ...\"\n",
    "space_count_1 = [s for s in st].count(' ')\n",
    "print(\"space_count_1 = \", space_count_1)\n",
    "\n",
    "space_count_2 = [x for x in st if x.isspace()]\n",
    "print(\"space_count_2 = \", len(space_count_2))\n",
    "\n",
    "space_count_3 = sum([1 for x in st if x == ' '])\n",
    "print(\"space_count_3 = \", space_count_3)\n",
    "\n",
    "space_count_4 = len([letter for letter in st  if letter == ' '])\n",
    "print(\"space_count_4 = \", space_count_4)\n",
    "\n",
    "space_count_5 = sum([1 for i in range(len(st))if st[i]==' '])\n",
    "print(\"space_count_5 = \", space_count_5)\n"
   ]
  },
  {
   "cell_type": "markdown",
   "metadata": {},
   "source": [
    "**Num of Vowels and consonant in string**"
   ]
  },
  {
   "cell_type": "code",
   "execution_count": 26,
   "metadata": {},
   "outputs": [
    {
     "name": "stdout",
     "output_type": "stream",
     "text": [
      "yellow yaks like yelling and yawning and yesturday they yodled while eating yuky yams yes yes yes\n",
      "vowel_list  ['e', 'o', ' ', 'a', ' ', 'i', 'e', ' ', 'e', 'i', ' ', 'a', ' ', 'a', 'i', ' ', 'a', ' ', 'e', 'u', 'a', ' ', 'e', ' ', 'o', 'e', ' ', 'i', 'e', ' ', 'e', 'a', 'i', ' ', 'u', ' ', 'a', ' ', 'e', ' ', 'e', ' ', 'e']\n",
      "count of vowel_list  43\n",
      "consonant_list  ['y', 'l', 'l', 'w', 'y', 'k', 's', 'l', 'k', 'y', 'l', 'l', 'n', 'g', 'n', 'd', 'y', 'w', 'n', 'n', 'g', 'n', 'd', 'y', 's', 't', 'r', 'd', 'y', 't', 'h', 'y', 'y', 'd', 'l', 'd', 'w', 'h', 'l', 't', 'n', 'g', 'y', 'k', 'y', 'y', 'm', 's', 'y', 's', 'y', 's', 'y', 's']\n",
      "count of consonant_list  54\n",
      "count of words 17\n"
     ]
    }
   ],
   "source": [
    "raw_sentence = \"Yellow Yaks like yelling and yawning and yesturday they yodled while eating yuky yams Yes Yes Yes\"\n",
    "sentence = raw_sentence.lower()\n",
    "print(sentence)\n",
    "vowel_list = [letter for letter in sentence if letter in 'a, e, i, o, u']\n",
    "print(\"vowel_list \", vowel_list)\n",
    "print(\"count of vowel_list \", len(vowel_list))\n",
    "consonant_list = [letter for letter in sentence if letter not in 'a, e, i, o, u, \" \"']\n",
    "print(\"consonant_list \", consonant_list)\n",
    "print(\"count of consonant_list \", len(consonant_list))\n",
    "print(\"count of words\", len(sentence.split()))"
   ]
  },
  {
   "cell_type": "markdown",
   "metadata": {},
   "source": [
    "**Get index and value of the list**"
   ]
  },
  {
   "cell_type": "code",
   "execution_count": 28,
   "metadata": {},
   "outputs": [
    {
     "name": "stdout",
     "output_type": "stream",
     "text": [
      "[(0, 'hi'), (1, 4), (2, 8.99), (3, 'apple'), (4, ('t,b', 'n'))]\n",
      "item length  5\n",
      "result length  5\n"
     ]
    }
   ],
   "source": [
    "items = [\"hi\", 4, 8.99, 'apple', ('t,b','n')]\n",
    "result = [(index, item) for index, item in enumerate(items)]\n",
    "print(result)\n",
    "print(\"item length \",len(items))\n",
    "print(\"result length \",len(result))"
   ]
  },
  {
   "cell_type": "markdown",
   "metadata": {},
   "source": [
    "**Find the common numbers in two lists (without using a tuple or set) list_a = [1, 2, 3, 4], list_b = [2, 3, 4, 5]**"
   ]
  },
  {
   "cell_type": "code",
   "execution_count": 29,
   "metadata": {},
   "outputs": [
    {
     "name": "stdout",
     "output_type": "stream",
     "text": [
      "[2, 3, 4]\n"
     ]
    }
   ],
   "source": [
    "list_a = [1, 2, 3, 4]\n",
    "list_b = [2, 3, 4, 5]\n",
    "common = [a for a in list_a if a in list_b]\n",
    "print(common)"
   ]
  },
  {
   "cell_type": "markdown",
   "metadata": {},
   "source": [
    "**Get only the numbers in a sentence like 'In 1984 there were 13 instances of a protest with over 1000 people attending'.  Result is a list of numbers like [3,4,5]**"
   ]
  },
  {
   "cell_type": "code",
   "execution_count": 32,
   "metadata": {},
   "outputs": [
    {
     "name": "stdout",
     "output_type": "stream",
     "text": [
      "['1984', '13', '1000']\n"
     ]
    }
   ],
   "source": [
    "sentence = 'In 1984 there were 13 instances of a protest with over 1000 people attending'\n",
    "words = sentence.split()\n",
    "result = [number for number in words if not number.isalpha() ]\n",
    "print(result)"
   ]
  },
  {
   "cell_type": "markdown",
   "metadata": {},
   "source": [
    "Even and Odd number for a range"
   ]
  },
  {
   "cell_type": "code",
   "execution_count": 12,
   "metadata": {},
   "outputs": [
    {
     "name": "stdout",
     "output_type": "stream",
     "text": [
      "[(1, 'odd'), (2, 'even'), (3, 'odd'), (4, 'even'), (5, 'odd'), (6, 'even'), (7, 'odd'), (8, 'even'), (9, 'odd'), (10, 'even'), (11, 'odd'), (12, 'even'), (13, 'odd'), (14, 'even'), (15, 'odd'), (16, 'even'), (17, 'odd'), (18, 'even'), (19, 'odd')]\n",
      "1, odd\n",
      "2, even\n",
      "3, odd\n",
      "4, even\n",
      "5, odd\n",
      "6, even\n",
      "7, odd\n",
      "8, even\n",
      "9, odd\n",
      "10, even\n",
      "11, odd\n",
      "12, even\n",
      "13, odd\n",
      "14, even\n",
      "15, odd\n",
      "16, even\n",
      "17, odd\n",
      "18, even\n",
      "19, odd\n"
     ]
    }
   ],
   "source": [
    "n = 20\n",
    "num_type = [(x, 'even' if x%2 == 0 else 'odd') for x in range(1,n)]\n",
    "\n",
    "print(num_type)\n",
    "\n",
    "for num, type in num_type:\n",
    "    print(f\"{num}, {type}\")"
   ]
  },
  {
   "cell_type": "markdown",
   "metadata": {},
   "source": [
    "Intersection in 2 lists"
   ]
  },
  {
   "cell_type": "code",
   "execution_count": 13,
   "metadata": {},
   "outputs": [
    {
     "name": "stdout",
     "output_type": "stream",
     "text": [
      "[(1, 1), (2, 2), (7, 7)]\n"
     ]
    }
   ],
   "source": [
    "list_a = [1, 2, 3,4,5,6,7,8,9]\n",
    "list_b = [2, 7, 1, 12]\n",
    "\n",
    "common_num = [(a, b) for a in list_a for b in list_b if a == b]\n",
    "print(common_num)"
   ]
  },
  {
   "cell_type": "markdown",
   "metadata": {},
   "source": [
    "**Find all of the words in a string that are less than 4 letters**\n"
   ]
  },
  {
   "cell_type": "code",
   "execution_count": null,
   "metadata": {},
   "outputs": [
    {
     "name": "stdout",
     "output_type": "stream",
     "text": [
      "['On', 'a', 'summer', 'day', 'somner', 'smith', 'went', 'swimming', 'in', 'the', 'sun', 'and', 'his', 'red', 'skin', 'stung']\n",
      "['On', 'a', 'day', 'in', 'the', 'sun', 'and', 'his', 'red']\n"
     ]
    }
   ],
   "source": [
    "sentence = 'On a summer day somner smith went swimming in the sun and his red skin stung'\n",
    "examine = sentence.split()\n",
    "print(examine)\n",
    "lst = [word for word in examine if len(word) < 4]\n",
    "print (lst)\n"
   ]
  },
  {
   "cell_type": "markdown",
   "metadata": {},
   "source": [
    "**Use a nested list comprehension to find all of the numbers from 1-100 that are divisible by any single digit besides 1 (2-9)**\n"
   ]
  },
  {
   "cell_type": "code",
   "execution_count": 17,
   "metadata": {},
   "outputs": [
    {
     "name": "stdout",
     "output_type": "stream",
     "text": [
      "[2, 3, 4, 5, 6, 7, 8, 9, 10, 12, 14, 15, 16, 18, 20, 21, 22, 24, 25, 26, 27, 28, 30, 32, 33, 34, 35, 36, 38, 39, 40, 42, 44, 45, 46, 48, 49, 50, 51, 52, 54, 55, 56, 57, 58, 60, 62, 63, 64, 65, 66, 68, 69, 70, 72, 74, 75, 76, 77, 78, 80, 81, 82, 84, 85, 86, 87, 88, 90, 91, 92, 93, 94, 95, 96, 98, 99]\n"
     ]
    }
   ],
   "source": [
    "result = [number for number in range(1,100) if True in [True for x in range(2,10) if number % x == 0]]\n",
    "print(result)"
   ]
  }
 ],
 "metadata": {
  "kernelspec": {
   "display_name": "base",
   "language": "python",
   "name": "python3"
  },
  "language_info": {
   "codemirror_mode": {
    "name": "ipython",
    "version": 3
   },
   "file_extension": ".py",
   "mimetype": "text/x-python",
   "name": "python",
   "nbconvert_exporter": "python",
   "pygments_lexer": "ipython3",
   "version": "3.12.7"
  }
 },
 "nbformat": 4,
 "nbformat_minor": 2
}
